{
  "cells": [
    {
      "cell_type": "code",
      "execution_count": 1,
      "metadata": {
        "id": "o-AWqclHC6p6"
      },
      "outputs": [],
      "source": [
        "import matplotlib.pyplot as plt\n",
        "import numpy\n",
        "import pandas as pd\n",
        "\n",
        "%matplotlib inline"
      ]
    },
    {
      "cell_type": "code",
      "execution_count": 2,
      "metadata": {
        "id": "Mq2AM4tvDJjy"
      },
      "outputs": [],
      "source": [
        "df_cifar10_x1_b1 = pd.read_csv('/trainingResults/CIFAR10BVAE1_x1.csv', header=0, index_col=False)\n",
        "df_cifar10_x1_yoto = pd.read_csv('/traininResults/CIFAR10Yoto_x1.csv', header=0, index_col=False)\n",
        "\n",
        "df_cifar10_x2_b1 = pd.read_csv('/trainingResults/CIFAR10BVAE1_x2.csv', header=0, index_col=False)\n",
        "df_cifar10_x2_yoto = pd.read_csv('/trainingResults/CIFAR10Yoto_x2.csv', header=0, index_col=False)\n",
        "\n",
        "df_cifar10_x4_b1 = pd.read_csv('/traininResults/CIFAR10BVAE1_x4.csv', header=0, index_col=False)\n",
        "df_cifar10_x4_yoto = pd.read_csv('/trainingResults/CIFAR10Yoto_x4.csv', header=0, index_col=False)"
      ]
    },
    {
      "cell_type": "code",
      "execution_count": 3,
      "metadata": {
        "id": "CcDWnx4wDJgV"
      },
      "outputs": [],
      "source": [
        "def pareto_frontier(Xs, Ys, maxX = True, maxY = True):\n",
        "    # Sort the list in either ascending or descending order of X\n",
        "    myList = sorted([[Xs[i], Ys[i]] for i in range(len(Xs))], reverse=maxX)\n",
        "    # Start the Pareto frontier with the first value in the sorted list\n",
        "    p_front = [myList[0]]\n",
        "    # Loop through the sorted list\n",
        "    for pair in myList[1:]:\n",
        "        if maxY: \n",
        "            if pair[1] >= p_front[-1][1]: # Look for higher values of Y…\n",
        "                p_front.append(pair) # … and add them to the Pareto frontier\n",
        "        else:\n",
        "            if pair[1] <= p_front[-1][1]: # Look for lower values of Y…\n",
        "                p_front.append(pair) # … and add them to the Pareto frontier\n",
        "    # Turn resulting pairs back into a list of Xs and Ys\n",
        "    p_frontX = [pair[0] for pair in p_front]\n",
        "    p_frontY = [pair[1] for pair in p_front]\n",
        "    return p_frontX, p_frontY"
      ]
    },
    {
      "cell_type": "code",
      "execution_count": 4,
      "metadata": {
        "id": "rcYGiDZKDJV7"
      },
      "outputs": [],
      "source": [
        "# 1x wide\n",
        "kl_cifar10_x1_b1 = df_cifar10_x1_b1.iloc[:,0]\n",
        "recon_cifar10_x1_b1 = df_cifar10_x1_b1.iloc[:,1]\n",
        "full_cifar10_x1_b1 = df_cifar10_x1_b1.iloc[:,2]\n",
        "\n",
        "kl_cifar10_x1_yoto = df_cifar10_x1_yoto.iloc[:,0]\n",
        "recon_cifar10_x1_yoto = df_cifar10_x1_yoto.iloc[:,1]\n",
        "full_cifar10_x1_yoto = df_cifar10_x1_yoto.iloc[:,2]\n",
        "\n",
        "# 2x wide\n",
        "kl_cifar10_x2_b1 = df_cifar10_x2_b1.iloc[:,0]\n",
        "recon_cifar10_x2_b1 = df_cifar10_x2_b1.iloc[:,1]\n",
        "full_cifar10_x2_b1 = df_cifar10_x2_b1.iloc[:,2]\n",
        "\n",
        "kl_cifar10_x2_yoto = df_cifar10_x2_yoto.iloc[:,0]\n",
        "recon_cifar10_x2_yoto = df_cifar10_x2_yoto.iloc[:,1]\n",
        "full_cifar10_x2_yoto = df_cifar10_x2_yoto.iloc[:,2]\n",
        "\n",
        "# 4x wide\n",
        "kl_cifar10_x4_b1 = df_cifar10_x2_b1.iloc[:,0]\n",
        "recon_cifar10_x4_b1 = df_cifar10_x2_b1.iloc[:,1]\n",
        "full_cifar10_x4_b1 = df_cifar10_x2_b1.iloc[:,2]\n",
        "\n",
        "kl_cifar10_x4_yoto = df_cifar10_x4_yoto.iloc[:,0]\n",
        "recon_cifar10_x4_yoto = df_cifar10_x4_yoto.iloc[:,1]\n",
        "full_cifar10_x4_yoto = df_cifar10_x4_yoto.iloc[:,2]\n"
      ]
    },
    {
      "cell_type": "code",
      "execution_count": 5,
      "metadata": {
        "id": "TqtE4TD9DJTM"
      },
      "outputs": [],
      "source": [
        "# computing Pareto \n",
        "\n",
        "kl_cifar_1x, recon_cifar_1x = pareto_frontier(list(kl_cifar10_x1_b1), list(recon_cifar10_x1_b1))\n",
        "kl_cifar_2x, recon_cifar_2x = pareto_frontier(list(kl_cifar10_x2_b1), list(recon_cifar10_x2_b1))\n",
        "kl_cifar_4x, recon_cifar_4x = pareto_frontier(list(kl_cifar10_x4_b1), list(recon_cifar10_x4_b1))\n",
        "\n",
        "kl_cifar_1x_yoto, recon_cifar_1x_yoto = pareto_frontier(list(kl_cifar10_x1_yoto), list(recon_cifar10_x1_yoto))\n",
        "kl_cifar_2x_yoto, recon_cifar_2x_yoto = pareto_frontier(list(kl_cifar10_x2_yoto), list(recon_cifar10_x2_yoto))\n",
        "kl_cifar_4x_yoto, recon_cifar_4x_yoto = pareto_frontier(list(kl_cifar10_x4_yoto), list(recon_cifar10_x4_yoto))\n"
      ]
    },
    {
      "cell_type": "code",
      "execution_count": 7,
      "metadata": {
        "colab": {
          "base_uri": "https://localhost:8080/",
          "height": 279
        },
        "id": "3dsDTlJxGKUh",
        "outputId": "70564ab1-4253-4a68-ca3e-2be39515f92c"
      },
      "outputs": [
        {
          "data": {
            "image/png": "[encoded data removed]",
            "text/plain": [
              "<Figure size 432x288 with 1 Axes>"
            ]
          },
          "metadata": {
            "needs_background": "light"
          },
          "output_type": "display_data"
        }
      ],
      "source": [
        "plt.plot(recon_cifar_1x, kl_cifar_1x, '-.', c='b')\n",
        "plt.plot(recon_cifar_2x, kl_cifar_2x, '-.', c='g')\n",
        "plt.plot(recon_cifar_4x, kl_cifar_4x, '-.', c='r')\n",
        "plt.plot(recon_cifar_1x_yoto, kl_cifar_1x_yoto, ':', c='c')\n",
        "plt.plot(recon_cifar_2x_yoto, kl_cifar_2x_yoto, ':', c='m')\n",
        "plt.plot(recon_cifar_4x_yoto, kl_cifar_4x_yoto, ':', c='y', )\n",
        "plt.legend(['fixed1x', 'fixed2x', 'fixed4x', 'yoto1x', 'yoto2x', 'yoto4x'])\n",
        "plt.xlabel('Reconstruction Loss')\n",
        "plt.ylabel('KL Loss')\n",
        "plt.savefig('Frontier Losses')"
      ]
    }
  ],
  "metadata": {
    "colab": {
      "name": "DL_YOTO_FrontierLoss.ipynb",
      "provenance": []
    },
    "kernelspec": {
      "display_name": "Python 3",
      "name": "python3"
    },
    "language_info": {
      "name": "python"
    }
  },
  "nbformat": 4,
  "nbformat_minor": 0
}
