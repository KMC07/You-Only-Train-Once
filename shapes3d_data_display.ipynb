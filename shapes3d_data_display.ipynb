{
 "cells": [
  {
   "cell_type": "code",
   "execution_count": 1,
   "metadata": {
    "id": "X06qixDbbZO8",
    "pycharm": {
     "name": "#%%\n"
    }
   },
   "outputs": [],
   "source": [
    "import torch\n",
    "import torchvision\n",
    "import torchvision.transforms as transforms\n",
    "import tarfile\n",
    "from torchvision.datasets.utils import download_url\n",
    "from torch.utils.data import random_split\n",
    "import os\n",
    "from torchvision.datasets import ImageFolder\n",
    "import torch.nn as nn\n",
    "import torch.nn.functional as F\n",
    "from itertools import chain\n",
    "from tqdm.autonotebook import tqdm\n",
    "import numpy as np\n",
    "from torch import optim\n",
    "\n",
    "import matplotlib.pyplot as plt\n",
    "%matplotlib inline"
   ]
  },
  {
   "cell_type": "code",
   "execution_count": 2,
   "metadata": {
    "id": "A0LwqWD7s6Ww",
    "pycharm": {
     "name": "#%%\n"
    }
   },
   "outputs": [],
   "source": [
    "transform = transforms.Compose(\n",
    "    [transforms.ToTensor(),\n",
    "     transforms.Resize(64)])\n",
    "\n",
    "batch_size = 128"
   ]
  },
  {
   "cell_type": "code",
   "execution_count": 3,
   "metadata": {},
   "outputs": [],
   "source": [
    "images = ImageFolder('.\\data\\shapes3dtrain', transform=transform)"
   ]
  },
  {
   "cell_type": "code",
   "execution_count": 4,
   "metadata": {},
   "outputs": [],
   "source": [
    "trainloader = torch.utils.data.DataLoader(images, batch_size=batch_size, shuffle=True, num_workers=0)"
   ]
  },
  {
   "cell_type": "code",
   "execution_count": 6,
   "metadata": {},
   "outputs": [
    {
     "name": "stdout",
     "output_type": "stream",
     "text": [
      "torch.Size([3, 64, 64])\n"
     ]
    },
    {
     "data": {
      "text/plain": [
       "<matplotlib.image.AxesImage at 0x1b909de4b50>"
      ]
     },
     "execution_count": 6,
     "metadata": {},
     "output_type": "execute_result"
    },
    {
     "data": {
      "image/png": "[encoded data removed]",
      "text/plain": [
       "<Figure size 432x288 with 1 Axes>"
      ]
     },
     "metadata": {
      "needs_background": "light"
     },
     "output_type": "display_data"
    }
   ],
   "source": [
    "train_features = next(iter(trainloader))\n",
    "img = train_features[0][0]\n",
    "print(img.shape)\n",
    "plt.imshow(img.swapaxes(0,1).swapaxes(1,2))"
   ]
  },
  {
   "cell_type": "code",
   "execution_count": null,
   "metadata": {},
   "outputs": [],
   "source": [
    "ind = 0\n",
    "test_features= next(iter(trainloader))\n",
    "# print(f\"Feature batch shape: {test_features.size()}\")\n",
    "# print(f\"Labels batch shape: {test_labels.size()}\")\n",
    "img1 = test_features[ind][0]#.unsqueeze(0)\n",
    "# label1 = test_labels[ind]\n",
    "print(img1.shape)\n",
    "plt.imshow(img1.swapaxes(0,1).swapaxes(1,2))"
   ]
  },
  {
   "cell_type": "code",
   "execution_count": 14,
   "metadata": {
    "id": "9aJqn1mZspBT",
    "pycharm": {
     "name": "#%%\n"
    }
   },
   "outputs": [],
   "source": [
    "class FiLMBlock(nn.Module):\n",
    "    def __init__(self, out_channels = None):\n",
    "        super(FiLMBlock, self).__init__()\n",
    "        self.out_channels = out_channels\n",
    "        self.mu = nn.Linear(256, out_channels)\n",
    "        self.sigma = nn.Linear(256, out_channels)\n",
    "        self.activation = nn.Sigmoid()\n",
    "\n",
    "    def forward(self, x):\n",
    "        mu = self.mu(x)\n",
    "        sigma = self.sigma(x)\n",
    "        return self.activation(mu), self.activation(sigma)"
   ]
  },
  {
   "cell_type": "code",
   "execution_count": 15,
   "metadata": {
    "id": "cNvFO563so-m",
    "pycharm": {
     "name": "#%%\n"
    }
   },
   "outputs": [],
   "source": [
    "class FiLMImplement(nn.Module):\n",
    "    def __init__(self, window):\n",
    "        super(FiLMImplement, self).__init__()\n",
    "        self.window = window\n",
    "\n",
    "    def broadcast_2d(self, x):\n",
    "        return torch.broadcast_to(x, (self.window, self.window))\n",
    "\n",
    "    def forward(self, x, mu, sigma):\n",
    "        mu_broadcast = torch.stack(tuple(map(self.broadcast_2d, mu.squeeze(0))), dim=0)\n",
    "        sigma_broadcast = torch.stack(tuple(map(self.broadcast_2d, sigma.squeeze(0))), dim=0)\n",
    "        x = sigma_broadcast * x + mu_broadcast\n",
    "        return x"
   ]
  },
  {
   "cell_type": "code",
   "execution_count": 16,
   "metadata": {
    "id": "mbFsNabXso7y",
    "pycharm": {
     "name": "#%%\n"
    }
   },
   "outputs": [],
   "source": [
    "# final\n",
    "class Encoder(nn.Module):\n",
    "    '''\n",
    "    simple encoder with a single hidden dense layer (ReLU activation)\n",
    "    and linear projections to the diag-Gauss parameters\n",
    "    '''\n",
    "    def __init__(self, latent_size=20, nc=3):\n",
    "        super(Encoder, self).__init__()\n",
    "        self.latent_size = latent_size\n",
    "        self.nc = nc\n",
    "\n",
    "        self.film1 = FiLMBlock(8)\n",
    "        self.film2 = FiLMBlock(16)\n",
    "        self.film3 = FiLMBlock(32)\n",
    "        self.film4 = FiLMBlock(64)\n",
    "        self.filmimp1 = FiLMImplement(31)\n",
    "        self.filmimp2 = FiLMImplement(15)\n",
    "        self.filmimp3 = FiLMImplement(7)\n",
    "        self.filmimp4 = FiLMImplement(3)\n",
    "\n",
    "        self.conv1 = nn.Conv2d(in_channels=3, out_channels=8, kernel_size=3, stride=2, padding=0)\n",
    "        self.conv2 = nn.Conv2d(8, out_channels=16, kernel_size=3, stride=2, padding=0)\n",
    "        self.conv3 = nn.Conv2d(16, out_channels=32, kernel_size=3, stride=2, padding=0)\n",
    "        self.conv4 = nn.Conv2d(32, out_channels=64, kernel_size=3, stride=2, padding=0)\n",
    "        # self.conv5 = nn.Conv2d(32, out_channels=64, kernel_size=3, stride=2, padding=1)\n",
    "        # self.conv6 = nn.Conv2d(64, out_channels=64, kernel_size=3, stride=1, padding=1)\n",
    "\n",
    "        self.enc_linear = nn.Sequential(\n",
    "                nn.Linear(576, 256),\n",
    "                nn.LeakyReLU(),\n",
    "                nn.Linear(256, 20),\n",
    "                nn.LeakyReLU())\n",
    "        \n",
    "        self.fc_mu = nn.Linear(20, latent_size)\n",
    "        self.fc_var = nn.Linear(20, latent_size)\n",
    "\n",
    "    def forward(self, x, helo=None):\n",
    "        # block 1\n",
    "        x = self.conv1(x)\n",
    "        mu, sigma = self.film1( helo )\n",
    "        x = self.filmimp1(x, mu, sigma)\n",
    "        x = F.leaky_relu(x)\n",
    "        \n",
    "        \n",
    "        x = self.conv2(x)\n",
    "        mu2, sigma2 = self.film2( helo )\n",
    "        x = self.filmimp2(x, mu2, sigma2)\n",
    "        x = F.leaky_relu(x)\n",
    "\n",
    "        #block 2\n",
    "        x = self.conv3(x)\n",
    "        mu3, sigma3 = self.film3( helo )\n",
    "        x = self.filmimp3(x, mu3, sigma3)\n",
    "        x = F.leaky_relu(x)\n",
    "        \n",
    "        x = self.conv4(x)\n",
    "        mu4, sigma4 = self.film4( helo )\n",
    "        x = self.filmimp4(x, mu4, sigma4)\n",
    "        x = F.leaky_relu(x)\n",
    "        x = x.view(x.shape[0], -1)\n",
    "        x = self.enc_linear(x)\n",
    "\n",
    "        # Split the result into mu and var components\n",
    "        # of the latent Gaussian distribution\n",
    "        mu = self.fc_mu(x)\n",
    "        log_var = self.fc_var(x)\n",
    "\n",
    "        return mu, log_var\n"
   ]
  },
  {
   "cell_type": "code",
   "execution_count": 17,
   "metadata": {
    "id": "vhxjvVVEso5M",
    "pycharm": {
     "name": "#%%\n"
    }
   },
   "outputs": [],
   "source": [
    "# final\n",
    "class Decoder(nn.Module):\n",
    "    '''\n",
    "    simple decoder: single dense hidden layer (ReLU activation) followed by \n",
    "    output layer with a sigmoid to squish values\n",
    "    '''\n",
    "    def __init__(self, latent_size=20, nc=3):\n",
    "        super(Decoder, self).__init__()\n",
    "        self.latent_size = latent_size\n",
    "        self.nc = nc\n",
    "        self.decoder_input = nn.Sequential(\n",
    "            nn.Linear(latent_size, 256),\n",
    "            nn.LeakyReLU(),\n",
    "            nn.Linear(256, 1024),\n",
    "            nn.LeakyReLU(),\n",
    "        )\n",
    "\n",
    "        self.activation = nn.Sigmoid()\n",
    "\n",
    "        self.film1U = FiLMBlock(64)\n",
    "        self.film2U = FiLMBlock(32)\n",
    "        self.film3U = FiLMBlock(16)\n",
    "        self.film4U = FiLMBlock(8)\n",
    "        self.filmimp1U = FiLMImplement(6)\n",
    "        self.filmimp2U = FiLMImplement(9)\n",
    "        self.filmimp3U = FiLMImplement(16)\n",
    "        self.filmimp4U = FiLMImplement(31)\n",
    "\n",
    "        self.conv1U = nn.ConvTranspose2d(64, out_channels=64, kernel_size=3, stride=2, padding=2, output_padding=1)\n",
    "        self.conv2U = nn.ConvTranspose2d(64, out_channels=32, kernel_size=3, stride=2, padding=2, output_padding=0)\n",
    "        self.conv3U = nn.ConvTranspose2d(32, out_channels=16, kernel_size=3, stride=2, padding=2, output_padding=1)\n",
    "        self.conv4U = nn.ConvTranspose2d(16, out_channels=8, kernel_size=3, stride=2, padding=1, output_padding=0)\n",
    "        self.conv5U = nn.ConvTranspose2d(8, out_channels=3, kernel_size=3, stride=2, padding=0, output_padding=1)\n",
    "        #         self.conv6U = nn.ConvTranspose2d(16, out_channels=3, kernel_size=3, stride=1, padding=1, output_padding=0)\n",
    "    \n",
    "    def forward(self, x , helo=None):\n",
    "        x = self.decoder_input(z)\n",
    "        x = x.view(-1, 64, 4, 4)\n",
    "\n",
    "        # block 1\n",
    "        x = self.conv1U(x)\n",
    "        mu11, sigma11 = self.film1U( helo )\n",
    "        x = self.filmimp1U(x, mu11, sigma11)\n",
    "        x = F.leaky_relu(x)\n",
    "        \n",
    "        x = self.conv2U(x)\n",
    "        mu22, sigma22 = self.film2U( helo )\n",
    "        x = self.filmimp2U(x, mu22, sigma22)\n",
    "        x = F.leaky_relu(x)\n",
    "\n",
    "        # block 2\n",
    "        x = self.conv3U(x)\n",
    "        mu33, sigma33 = self.film3U( helo )\n",
    "        x = self.filmimp3U(x, mu33, sigma33)\n",
    "        x = F.leaky_relu(x)\n",
    "        \n",
    "        x = self.conv4U(x)\n",
    "        mu44, sigma44 = self.film4U( helo )\n",
    "        x = self.filmimp4U(x, mu44, sigma44)\n",
    "        x = F.leaky_relu(x)\n",
    "        \n",
    "        # block 3\n",
    "        x = self.conv5U(x)\n",
    "        return self.activation(x)\n",
    "\n"
   ]
  },
  {
   "cell_type": "code",
   "execution_count": 12,
   "metadata": {
    "id": "Dst3HRFJso1m",
    "pycharm": {
     "name": "#%%\n"
    }
   },
   "outputs": [],
   "source": [
    "def sample(mu, logvar):\n",
    "    std = torch.exp(0.5*logvar)  # e^(1/2 * log(std^2))\n",
    "    eps = torch.randn_like(std)  # random ~ N(0, 1)\n",
    "    return eps.mul(std).add_(mu)"
   ]
  },
  {
   "cell_type": "code",
   "execution_count": 10,
   "metadata": {
    "id": "aa95RL3YuXrh",
    "pycharm": {
     "name": "#%%\n"
    }
   },
   "outputs": [],
   "source": [
    "device = \"cuda:0\" if torch.cuda.is_available() else \"cpu\""
   ]
  },
  {
   "cell_type": "code",
   "execution_count": 18,
   "metadata": {
    "id": "3Cd2B11fsoz0",
    "pycharm": {
     "name": "#%%\n"
    }
   },
   "outputs": [],
   "source": [
    "# build the model and load state\n",
    "enc = Encoder()\n",
    "enc.load_state_dict(torch.load('C:/Users/Hanu/Downloads/weight_save/encshapes3Dyoto.weights', map_location=torch.device('cpu')))\n",
    "\n",
    "dec = Decoder()\n",
    "dec.load_state_dict(torch.load('C:/Users/Hanu/Downloads/weight_save/decshapes3Dyoto.weights', map_location=torch.device('cpu')))\n",
    "\n",
    "# put model in eval mode\n",
    "enc = enc.eval() \n",
    "dec = dec.eval() "
   ]
  },
  {
   "cell_type": "code",
   "execution_count": 19,
   "metadata": {
    "colab": {
     "base_uri": "https://localhost:8080/",
     "height": 318
    },
    "id": "pkAXseZesowb",
    "outputId": "9f8e7e0b-963c-412c-f2f5-3eb7e0942deb",
    "pycharm": {
     "name": "#%%\n"
    }
   },
   "outputs": [
    {
     "name": "stdout",
     "output_type": "stream",
     "text": [
      "torch.Size([3, 64, 64])\n"
     ]
    },
    {
     "data": {
      "text/plain": [
       "<matplotlib.image.AxesImage at 0x16083e4e9d0>"
      ]
     },
     "execution_count": 19,
     "metadata": {},
     "output_type": "execute_result"
    },
    {
     "data": {
      "image/png": "[encoded data removed]",
      "text/plain": [
       "<Figure size 432x288 with 1 Axes>"
      ]
     },
     "metadata": {
      "needs_background": "light"
     },
     "output_type": "display_data"
    }
   ],
   "source": [
    "ind = 0\n",
    "test_features= next(iter(trainloader))\n",
    "# print(f\"Feature batch shape: {test_features.size()}\")\n",
    "# print(f\"Labels batch shape: {test_labels.size()}\")\n",
    "img1 = test_features[ind][0]#.unsqueeze(0)\n",
    "# label1 = test_labels[ind]\n",
    "print(img1.shape)\n",
    "plt.imshow(img1.swapaxes(0,1).swapaxes(1,2))"
   ]
  },
  {
   "cell_type": "code",
   "execution_count": 23,
   "metadata": {
    "colab": {
     "base_uri": "https://localhost:8080/",
     "height": 283
    },
    "id": "d6nCNUXXsouI",
    "outputId": "0df81496-831a-4983-b9a1-f13a396e60f9",
    "pycharm": {
     "name": "#%%\n"
    }
   },
   "outputs": [
    {
     "data": {
      "text/plain": [
       "<matplotlib.image.AxesImage at 0x16083cda340>"
      ]
     },
     "execution_count": 23,
     "metadata": {},
     "output_type": "execute_result"
    },
    {
     "data": {
      "image/png": "[encoded data removed]",
      "text/plain": [
       "<Figure size 432x288 with 1 Axes>"
      ]
     },
     "metadata": {
      "needs_background": "light"
     },
     "output_type": "display_data"
    }
   ],
   "source": [
    "beta = float(512)\n",
    "beta2 = torch.tensor([1*beta], requires_grad=False)\n",
    "beta2 = torch.broadcast_to(beta2, (1, 256))\n",
    "\n",
    "\n",
    "mu, log_sigma2 = enc(img1.unsqueeze(0), beta2)\n",
    "z = sample(mu, log_sigma2)\n",
    "outp = dec(z, beta2)\n",
    "out = outp[0].cpu().detach().numpy()\n",
    "plt.imshow(out.swapaxes(0,1).swapaxes(1,2))"
   ]
  },
  {
   "cell_type": "code",
   "execution_count": 32,
   "metadata": {},
   "outputs": [
    {
     "data": {
      "text/plain": [
       "<matplotlib.image.AxesImage at 0x160884ca520>"
      ]
     },
     "execution_count": 32,
     "metadata": {},
     "output_type": "execute_result"
    },
    {
     "data": {
      "image/png": "[encoded data removed]",
      "text/plain": [
       "<Figure size 432x288 with 1 Axes>"
      ]
     },
     "metadata": {
      "needs_background": "light"
     },
     "output_type": "display_data"
    }
   ],
   "source": [
    "beta = float(512)\n",
    "beta2 = torch.tensor([1*beta], requires_grad=False)\n",
    "beta2 = torch.broadcast_to(beta2, (1, 256))\n",
    "\n",
    "\n",
    "mu, log_sigma2 = enc(img1.unsqueeze(0), beta2)\n",
    "z = sample(mu, log_sigma2)\n",
    "outp = dec(z, beta2)\n",
    "out = outp[0].cpu().detach().numpy()\n",
    "plt.imshow(out.swapaxes(0,1).swapaxes(1,2))"
   ]
  }
 ],
 "metadata": {
  "colab": {
   "name": "Testing.ipynb",
   "provenance": []
  },
  "kernelspec": {
   "display_name": "Python 3 (ipykernel)",
   "language": "python",
   "name": "python3"
  },
  "language_info": {
   "codemirror_mode": {
    "name": "ipython",
    "version": 3
   },
   "file_extension": ".py",
   "mimetype": "text/x-python",
   "name": "python",
   "nbconvert_exporter": "python",
   "pygments_lexer": "ipython3",
   "version": "3.9.7"
  },
  "widgets": {
   "application/vnd.jupyter.widget-state+json": {
    "21ca9bd0e04245a0ba6c283caea226ef": {
     "model_module": "@jupyter-widgets/controls",
     "model_module_version": "1.5.0",
     "model_name": "HBoxModel",
     "state": {
      "_dom_classes": [],
      "_model_module": "@jupyter-widgets/controls",
      "_model_module_version": "1.5.0",
      "_model_name": "HBoxModel",
      "_view_count": null,
      "_view_module": "@jupyter-widgets/controls",
      "_view_module_version": "1.5.0",
      "_view_name": "HBoxView",
      "box_style": "",
      "children": [
       "IPY_MODEL_896980c70dbd4b0aafdc9b8ed11ca093",
       "IPY_MODEL_c0321ef49e4848efb7a6696e54b18914",
       "IPY_MODEL_4d0e339661be4c47b543e5ec327c13f6"
      ],
      "layout": "IPY_MODEL_7ad1a00b889f4dd6babb75f7357ddb43"
     }
    },
    "35062c0b25e04cd6b7d8f7d1dc6e64ec": {
     "model_module": "@jupyter-widgets/base",
     "model_module_version": "1.2.0",
     "model_name": "LayoutModel",
     "state": {
      "_model_module": "@jupyter-widgets/base",
      "_model_module_version": "1.2.0",
      "_model_name": "LayoutModel",
      "_view_count": null,
      "_view_module": "@jupyter-widgets/base",
      "_view_module_version": "1.2.0",
      "_view_name": "LayoutView",
      "align_content": null,
      "align_items": null,
      "align_self": null,
      "border": null,
      "bottom": null,
      "display": null,
      "flex": null,
      "flex_flow": null,
      "grid_area": null,
      "grid_auto_columns": null,
      "grid_auto_flow": null,
      "grid_auto_rows": null,
      "grid_column": null,
      "grid_gap": null,
      "grid_row": null,
      "grid_template_areas": null,
      "grid_template_columns": null,
      "grid_template_rows": null,
      "height": null,
      "justify_content": null,
      "justify_items": null,
      "left": null,
      "margin": null,
      "max_height": null,
      "max_width": null,
      "min_height": null,
      "min_width": null,
      "object_fit": null,
      "object_position": null,
      "order": null,
      "overflow": null,
      "overflow_x": null,
      "overflow_y": null,
      "padding": null,
      "right": null,
      "top": null,
      "visibility": null,
      "width": null
     }
    },
    "37d32865a623432cb46c24ac1a044386": {
     "model_module": "@jupyter-widgets/controls",
     "model_module_version": "1.5.0",
     "model_name": "ProgressStyleModel",
     "state": {
      "_model_module": "@jupyter-widgets/controls",
      "_model_module_version": "1.5.0",
      "_model_name": "ProgressStyleModel",
      "_view_count": null,
      "_view_module": "@jupyter-widgets/base",
      "_view_module_version": "1.2.0",
      "_view_name": "StyleView",
      "bar_color": null,
      "description_width": ""
     }
    },
    "4d0e339661be4c47b543e5ec327c13f6": {
     "model_module": "@jupyter-widgets/controls",
     "model_module_version": "1.5.0",
     "model_name": "HTMLModel",
     "state": {
      "_dom_classes": [],
      "_model_module": "@jupyter-widgets/controls",
      "_model_module_version": "1.5.0",
      "_model_name": "HTMLModel",
      "_view_count": null,
      "_view_module": "@jupyter-widgets/controls",
      "_view_module_version": "1.5.0",
      "_view_name": "HTMLView",
      "description": "",
      "description_tooltip": null,
      "layout": "IPY_MODEL_d8337d8fffdd46dbb29793335c7a907d",
      "placeholder": "​",
      "style": "IPY_MODEL_c5e3583afecc49eebabf5957e445e3aa",
      "value": " 135108608/? [00:02&lt;00:00, 49467579.31it/s]"
     }
    },
    "7ad1a00b889f4dd6babb75f7357ddb43": {
     "model_module": "@jupyter-widgets/base",
     "model_module_version": "1.2.0",
     "model_name": "LayoutModel",
     "state": {
      "_model_module": "@jupyter-widgets/base",
      "_model_module_version": "1.2.0",
      "_model_name": "LayoutModel",
      "_view_count": null,
      "_view_module": "@jupyter-widgets/base",
      "_view_module_version": "1.2.0",
      "_view_name": "LayoutView",
      "align_content": null,
      "align_items": null,
      "align_self": null,
      "border": null,
      "bottom": null,
      "display": null,
      "flex": null,
      "flex_flow": null,
      "grid_area": null,
      "grid_auto_columns": null,
      "grid_auto_flow": null,
      "grid_auto_rows": null,
      "grid_column": null,
      "grid_gap": null,
      "grid_row": null,
      "grid_template_areas": null,
      "grid_template_columns": null,
      "grid_template_rows": null,
      "height": null,
      "justify_content": null,
      "justify_items": null,
      "left": null,
      "margin": null,
      "max_height": null,
      "max_width": null,
      "min_height": null,
      "min_width": null,
      "object_fit": null,
      "object_position": null,
      "order": null,
      "overflow": null,
      "overflow_x": null,
      "overflow_y": null,
      "padding": null,
      "right": null,
      "top": null,
      "visibility": null,
      "width": null
     }
    },
    "896980c70dbd4b0aafdc9b8ed11ca093": {
     "model_module": "@jupyter-widgets/controls",
     "model_module_version": "1.5.0",
     "model_name": "HTMLModel",
     "state": {
      "_dom_classes": [],
      "_model_module": "@jupyter-widgets/controls",
      "_model_module_version": "1.5.0",
      "_model_name": "HTMLModel",
      "_view_count": null,
      "_view_module": "@jupyter-widgets/controls",
      "_view_module_version": "1.5.0",
      "_view_name": "HTMLView",
      "description": "",
      "description_tooltip": null,
      "layout": "IPY_MODEL_35062c0b25e04cd6b7d8f7d1dc6e64ec",
      "placeholder": "​",
      "style": "IPY_MODEL_ac6012f09e6e4be0bf4d9c8d8ef5edfb",
      "value": ""
     }
    },
    "ac6012f09e6e4be0bf4d9c8d8ef5edfb": {
     "model_module": "@jupyter-widgets/controls",
     "model_module_version": "1.5.0",
     "model_name": "DescriptionStyleModel",
     "state": {
      "_model_module": "@jupyter-widgets/controls",
      "_model_module_version": "1.5.0",
      "_model_name": "DescriptionStyleModel",
      "_view_count": null,
      "_view_module": "@jupyter-widgets/base",
      "_view_module_version": "1.2.0",
      "_view_name": "StyleView",
      "description_width": ""
     }
    },
    "c0321ef49e4848efb7a6696e54b18914": {
     "model_module": "@jupyter-widgets/controls",
     "model_module_version": "1.5.0",
     "model_name": "FloatProgressModel",
     "state": {
      "_dom_classes": [],
      "_model_module": "@jupyter-widgets/controls",
      "_model_module_version": "1.5.0",
      "_model_name": "FloatProgressModel",
      "_view_count": null,
      "_view_module": "@jupyter-widgets/controls",
      "_view_module_version": "1.5.0",
      "_view_name": "ProgressView",
      "bar_style": "success",
      "description": "",
      "description_tooltip": null,
      "layout": "IPY_MODEL_ddcf1143b7314adcb64d6f64cfbbe462",
      "max": 135107811,
      "min": 0,
      "orientation": "horizontal",
      "style": "IPY_MODEL_37d32865a623432cb46c24ac1a044386",
      "value": 135107811
     }
    },
    "c5e3583afecc49eebabf5957e445e3aa": {
     "model_module": "@jupyter-widgets/controls",
     "model_module_version": "1.5.0",
     "model_name": "DescriptionStyleModel",
     "state": {
      "_model_module": "@jupyter-widgets/controls",
      "_model_module_version": "1.5.0",
      "_model_name": "DescriptionStyleModel",
      "_view_count": null,
      "_view_module": "@jupyter-widgets/base",
      "_view_module_version": "1.2.0",
      "_view_name": "StyleView",
      "description_width": ""
     }
    },
    "d8337d8fffdd46dbb29793335c7a907d": {
     "model_module": "@jupyter-widgets/base",
     "model_module_version": "1.2.0",
     "model_name": "LayoutModel",
     "state": {
      "_model_module": "@jupyter-widgets/base",
      "_model_module_version": "1.2.0",
      "_model_name": "LayoutModel",
      "_view_count": null,
      "_view_module": "@jupyter-widgets/base",
      "_view_module_version": "1.2.0",
      "_view_name": "LayoutView",
      "align_content": null,
      "align_items": null,
      "align_self": null,
      "border": null,
      "bottom": null,
      "display": null,
      "flex": null,
      "flex_flow": null,
      "grid_area": null,
      "grid_auto_columns": null,
      "grid_auto_flow": null,
      "grid_auto_rows": null,
      "grid_column": null,
      "grid_gap": null,
      "grid_row": null,
      "grid_template_areas": null,
      "grid_template_columns": null,
      "grid_template_rows": null,
      "height": null,
      "justify_content": null,
      "justify_items": null,
      "left": null,
      "margin": null,
      "max_height": null,
      "max_width": null,
      "min_height": null,
      "min_width": null,
      "object_fit": null,
      "object_position": null,
      "order": null,
      "overflow": null,
      "overflow_x": null,
      "overflow_y": null,
      "padding": null,
      "right": null,
      "top": null,
      "visibility": null,
      "width": null
     }
    },
    "ddcf1143b7314adcb64d6f64cfbbe462": {
     "model_module": "@jupyter-widgets/base",
     "model_module_version": "1.2.0",
     "model_name": "LayoutModel",
     "state": {
      "_model_module": "@jupyter-widgets/base",
      "_model_module_version": "1.2.0",
      "_model_name": "LayoutModel",
      "_view_count": null,
      "_view_module": "@jupyter-widgets/base",
      "_view_module_version": "1.2.0",
      "_view_name": "LayoutView",
      "align_content": null,
      "align_items": null,
      "align_self": null,
      "border": null,
      "bottom": null,
      "display": null,
      "flex": null,
      "flex_flow": null,
      "grid_area": null,
      "grid_auto_columns": null,
      "grid_auto_flow": null,
      "grid_auto_rows": null,
      "grid_column": null,
      "grid_gap": null,
      "grid_row": null,
      "grid_template_areas": null,
      "grid_template_columns": null,
      "grid_template_rows": null,
      "height": null,
      "justify_content": null,
      "justify_items": null,
      "left": null,
      "margin": null,
      "max_height": null,
      "max_width": null,
      "min_height": null,
      "min_width": null,
      "object_fit": null,
      "object_position": null,
      "order": null,
      "overflow": null,
      "overflow_x": null,
      "overflow_y": null,
      "padding": null,
      "right": null,
      "top": null,
      "visibility": null,
      "width": null
     }
    }
   }
  }
 },
 "nbformat": 4,
 "nbformat_minor": 1
}
